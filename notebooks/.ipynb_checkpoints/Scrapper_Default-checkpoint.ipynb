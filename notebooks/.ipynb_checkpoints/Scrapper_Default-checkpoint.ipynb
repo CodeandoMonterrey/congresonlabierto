{
 "cells": [
  {
   "cell_type": "code",
   "execution_count": 310,
   "metadata": {
    "collapsed": true
   },
   "outputs": [],
   "source": [
    "#Scrapper para la pagina de: http://www.hcnl.gob.mx/trabajo_legislativo/leyes/\n",
    "#Cuya estructura se repite en el resto de la web."
   ]
  },
  {
   "cell_type": "code",
   "execution_count": 280,
   "metadata": {
    "collapsed": true
   },
   "outputs": [],
   "source": [
    "import os\n",
    "import time\n",
    "\n",
    "from selenium import webdriver\n",
    "\n",
    "import pandas as pd"
   ]
  },
  {
   "cell_type": "code",
   "execution_count": 281,
   "metadata": {
    "collapsed": false
   },
   "outputs": [],
   "source": [
    "driver = webdriver.Chrome()\n",
    "driver.get('http://www.hcnl.gob.mx/trabajo_legislativo/leyes/index.php')\n"
   ]
  },
  {
   "cell_type": "code",
   "execution_count": 282,
   "metadata": {
    "collapsed": true
   },
   "outputs": [],
   "source": [
    "def get_sites_to_visit(driver):\n",
    "    site_lists = [{\"name\": \"LEYES\", \"url\": \"http://www.hcnl.gob.mx/trabajo_legislativo/leyes/index.php\"}] #Initialize site list\n",
    "    pass_input = driver.find_elements_by_class_name(\"leyesnav\")\n",
    "    for find in pass_input:\n",
    "        site_lists.append({\"name\":find.find_element_by_tag_name(\"a\").text, \"url\":find.find_element_by_tag_name(\"a\").get_attribute(\"href\")})\n",
    "    return site_lists"
   ]
  },
  {
   "cell_type": "code",
   "execution_count": 283,
   "metadata": {
    "collapsed": false
   },
   "outputs": [
    {
     "data": {
      "text/plain": [
       "[{'name': 'LEYES',\n",
       "  'url': 'http://www.hcnl.gob.mx/trabajo_legislativo/leyes/index.php'},\n",
       " {'name': 'ACUERDOS',\n",
       "  'url': 'http://www.hcnl.gob.mx/trabajo_legislativo/leyes/acuerdos.php'},\n",
       " {'name': 'DECRETOS',\n",
       "  'url': 'http://www.hcnl.gob.mx/trabajo_legislativo/leyes/decretos.php'},\n",
       " {'name': 'CÓDIGOS',\n",
       "  'url': 'http://www.hcnl.gob.mx/trabajo_legislativo/leyes/codigos.php'},\n",
       " {'name': 'REGLAMENTOS',\n",
       "  'url': 'http://www.hcnl.gob.mx/trabajo_legislativo/leyes/reglamentos.php'},\n",
       " {'name': 'PAQUETE FISCAL',\n",
       "  'url': 'http://www.hcnl.gob.mx/trabajo_legislativo/leyes/paquete_fiscal.php'}]"
      ]
     },
     "execution_count": 283,
     "metadata": {},
     "output_type": "execute_result"
    }
   ],
   "source": [
    "get_sites_to_visit(driver)"
   ]
  },
  {
   "cell_type": "code",
   "execution_count": 284,
   "metadata": {
    "collapsed": true
   },
   "outputs": [],
   "source": [
    "driver.get('http://www.hcnl.gob.mx/trabajo_legislativo/leyes/index.php')\n",
    "site_lists = [\"http://www.hcnl.gob.mx/trabajo_legislativo/leyes/index\"] #Initialize site list\n"
   ]
  },
  {
   "cell_type": "code",
   "execution_count": null,
   "metadata": {
    "collapsed": false
   },
   "outputs": [],
   "source": []
  },
  {
   "cell_type": "code",
   "execution_count": 285,
   "metadata": {
    "collapsed": false
   },
   "outputs": [
    {
     "data": {
      "text/plain": [
       "[{'name': 'LEYES',\n",
       "  'url': 'http://www.hcnl.gob.mx/trabajo_legislativo/leyes/index.php'},\n",
       " {'name': 'ACUERDOS',\n",
       "  'url': 'http://www.hcnl.gob.mx/trabajo_legislativo/leyes/acuerdos.php'},\n",
       " {'name': 'DECRETOS',\n",
       "  'url': 'http://www.hcnl.gob.mx/trabajo_legislativo/leyes/decretos.php'},\n",
       " {'name': 'CÓDIGOS',\n",
       "  'url': 'http://www.hcnl.gob.mx/trabajo_legislativo/leyes/codigos.php'},\n",
       " {'name': 'REGLAMENTOS',\n",
       "  'url': 'http://www.hcnl.gob.mx/trabajo_legislativo/leyes/reglamentos.php'},\n",
       " {'name': 'PAQUETE FISCAL',\n",
       "  'url': 'http://www.hcnl.gob.mx/trabajo_legislativo/leyes/paquete_fiscal.php'}]"
      ]
     },
     "execution_count": 285,
     "metadata": {},
     "output_type": "execute_result"
    }
   ],
   "source": [
    "get_sites_to_visit(driver)"
   ]
  },
  {
   "cell_type": "code",
   "execution_count": 306,
   "metadata": {
    "collapsed": false
   },
   "outputs": [],
   "source": [
    "def get_periods(driver):\n",
    "    output_links = []\n",
    "    pass_input = driver.find_elements_by_class_name(\"ui-corner-top\")\n",
    "    for find in pass_input:\n",
    "        output_links.append(find.find_element_by_tag_name(\"a\"))\n",
    "    return output_links"
   ]
  },
  {
   "cell_type": "code",
   "execution_count": 287,
   "metadata": {
    "collapsed": false
   },
   "outputs": [
    {
     "data": {
      "text/plain": [
       "[]"
      ]
     },
     "execution_count": 287,
     "metadata": {},
     "output_type": "execute_result"
    }
   ],
   "source": [
    "get_periods(driver)"
   ]
  },
  {
   "cell_type": "code",
   "execution_count": 288,
   "metadata": {
    "collapsed": false
   },
   "outputs": [],
   "source": [
    "for find in pass_input:\n",
    "    print(find.find_element_by_tag_name(\"a\").get_attribute(\"href\"))"
   ]
  },
  {
   "cell_type": "code",
   "execution_count": 289,
   "metadata": {
    "collapsed": false
   },
   "outputs": [],
   "source": [
    "Select(driver.find_elements_by_name(\"Tabla_length\")[0]).select_by_value('-1')"
   ]
  },
  {
   "cell_type": "code",
   "execution_count": 290,
   "metadata": {
    "collapsed": false
   },
   "outputs": [],
   "source": [
    "from selenium.webdriver.support.ui import Select\n"
   ]
  },
  {
   "cell_type": "code",
   "execution_count": 291,
   "metadata": {
    "collapsed": false
   },
   "outputs": [],
   "source": [
    "def get_table_headers(driver):\n",
    "    headers = []\n",
    "    for link in (driver.find_elements_by_tag_name(\"thead\")[0]).find_elements_by_tag_name(\"th\"):\n",
    "        headers.append(link.text)\n",
    "    return headers"
   ]
  },
  {
   "cell_type": "code",
   "execution_count": 292,
   "metadata": {
    "collapsed": false
   },
   "outputs": [],
   "source": [
    "def get_table_data(driver, headers):\n",
    "    files_index = headers.index(\"ARCHIVOS\")\n",
    "    table_data = []\n",
    "    for row in (driver.find_elements_by_tag_name(\"tbody\")[0]).find_elements_by_tag_name(\"tr\"):\n",
    "        row_columns = row.find_elements_by_tag_name(\"td\")\n",
    "        for i in range(len(headers)):\n",
    "            row_dict = {headers[i]:row_columns[i].text}\n",
    "        row_file_links = row_columns[files_index].find_elements_by_tag_name(\"a\")\n",
    "        file_data = extract_file_data(row_file_links)\n",
    "        row_dict[\"ARCHIVOS\"]=file_data\n",
    "        table_data.append(row_dict)\n",
    "    return table_data"
   ]
  },
  {
   "cell_type": "code",
   "execution_count": 293,
   "metadata": {
    "collapsed": true
   },
   "outputs": [],
   "source": [
    "def extract_file_data(row_file_links):\n",
    "    output_file_info = []\n",
    "    for link in row_file_links:\n",
    "        url = link.get_attribute(\"href\")\n",
    "        file_info = docs.document_data(url,\"es\")\n",
    "        file_info[\"url\"]= url\n",
    "        output_file_info.append(file_info)\n",
    "    return output_file_info"
   ]
  },
  {
   "cell_type": "code",
   "execution_count": 308,
   "metadata": {
    "collapsed": true
   },
   "outputs": [],
   "source": [
    "#Load todas las celdas anteriores, y esta empieza el scrapping."
   ]
  },
  {
   "cell_type": "code",
   "execution_count": 309,
   "metadata": {
    "collapsed": false
   },
   "outputs": [],
   "source": [
    "from lib import docs\n",
    "from time import sleep\n",
    "def main():\n",
    "    driver = webdriver.Chrome()\n",
    "    driver.get('http://www.hcnl.gob.mx/trabajo_legislativo/leyes/index.php')\n",
    "    document_types = get_sites_to_visit(driver)\n",
    "    print(document_types)\n",
    "    output_data = []\n",
    "    for document in document_types:\n",
    "        driver.get(document[\"url\"])\n",
    "        sleep(3)\n",
    "        periods = get_periods(driver)\n",
    "        if len(periods) > 0:\n",
    "            for period in periods:\n",
    "                period.click()\n",
    "                Select(driver.find_elements_by_name(\"Tabla_length\")[0]).select_by_value('-1')\n",
    "                sleep(3)\n",
    "                headers = get_table_headers(driver)\n",
    "                current_data = get_table_data(driver,headers)\n",
    "                current_data = insert_key(current_data, \"period\", period.text)\n",
    "                current_data = insert_key(current_data, \"document\", document[\"name\"])\n",
    "        else:\n",
    "            Select(driver.find_elements_by_name(\"Tabla_length\")[0]).select_by_value('-1')\n",
    "            sleep(3)\n",
    "            headers = get_table_headers(driver)\n",
    "            current_data = get_table_data(driver,headers)\n",
    "            current_data = insert_key(current_data, \"period\",\"LXXIV Legislatura\")\n",
    "            current_data = insert_key(current_data, \"document\", document[\"name\"])\n",
    "        output_data = output_data + current_data\n",
    "    return output_data"
   ]
  },
  {
   "cell_type": "code",
   "execution_count": 299,
   "metadata": {
    "collapsed": false
   },
   "outputs": [],
   "source": [
    "def insert_key(data, key, value):\n",
    "    output_data = []\n",
    "    for dictionary in data:\n",
    "        dictionary[key] = value\n",
    "        output_data.append(dictionary)\n",
    "    return output_data"
   ]
  },
  {
   "cell_type": "code",
   "execution_count": 307,
   "metadata": {
    "collapsed": false
   },
   "outputs": [
    {
     "name": "stdout",
     "output_type": "stream",
     "text": [
      "[{'name': 'LEYES', 'url': 'http://www.hcnl.gob.mx/trabajo_legislativo/leyes/index.php'}, {'name': 'ACUERDOS', 'url': 'http://www.hcnl.gob.mx/trabajo_legislativo/leyes/acuerdos.php'}, {'name': 'DECRETOS', 'url': 'http://www.hcnl.gob.mx/trabajo_legislativo/leyes/decretos.php'}, {'name': 'CÓDIGOS', 'url': 'http://www.hcnl.gob.mx/trabajo_legislativo/leyes/codigos.php'}, {'name': 'REGLAMENTOS', 'url': 'http://www.hcnl.gob.mx/trabajo_legislativo/leyes/reglamentos.php'}, {'name': 'PAQUETE FISCAL', 'url': 'http://www.hcnl.gob.mx/trabajo_legislativo/leyes/paquete_fiscal.php'}]\n",
      "http://www.hcnl.gob.mx/trabajo_legislativo/leyes/pdf/24.pdf\n",
      "temp/WILRYZ.pdf\n",
      "pdf\n",
      "http://www.hcnl.gob.mx/trabajo_legislativo/leyes/pdf/24.doc\n",
      "temp/MCKOVA.doc\n",
      "doc\n",
      "Got text\n",
      "http://www.hcnl.gob.mx/trabajo_legislativo/leyes/pdf/23.pdf\n",
      "temp/UABEMX.pdf\n",
      "pdf\n",
      "http://www.hcnl.gob.mx/trabajo_legislativo/leyes/pdf/23.doc\n",
      "temp/CLTYJO.doc\n",
      "doc\n",
      "Got text\n",
      "http://www.hcnl.gob.mx/trabajo_legislativo/leyes/pdf/20.pdf\n",
      "temp/EJSLNA.pdf\n",
      "pdf\n",
      "http://www.hcnl.gob.mx/trabajo_legislativo/leyes/pdf/20.doc\n",
      "temp/XEUMHJ.doc\n",
      "doc\n",
      "Got text\n",
      "http://www.hcnl.gob.mx/trabajo_legislativo/leyes/pdf/CONSTITUCION%20POLITICA%20DE%20LOS%20ESTADOS%20UNIDOS%20MEXICANOS.pdf\n",
      "temp/ZUYEJV.pdf\n",
      "pdf\n",
      "Got text\n",
      "http://www.hcnl.gob.mx/trabajo_legislativo/leyes/pdf/CONSTITUCION%20POLITICA%20DE%20LOS%20ESTADOS%20UNIDOS%20MEXICANOS.doc.docx\n",
      "temp/VOGNUY.doc\n",
      "doc\n",
      "Got text\n",
      "http://www.hcnl.gob.mx/trabajo_legislativo/leyes/pdf/CONSTITUCION%20POLITICA%20DEL%20ESTADO%20LIBRE%20Y%20SOBERANO%20DE%20NUEVO%20LEON.pdf\n",
      "temp/NTSYKM.pdf\n",
      "pdf\n",
      "Got text\n",
      "http://www.hcnl.gob.mx/trabajo_legislativo/leyes/pdf/CONSTITUCION%20POLITICA%20DEL%20ESTADO%20LIBRE%20Y%20SOBERANO%20DE%20NUEVO%20LEON.doc\n",
      "temp/COPIQZ.doc\n",
      "doc\n",
      "Got text\n",
      "http://www.hcnl.gob.mx/trabajo_legislativo/leyes/pdf/LEY%20DE%20ACCESO%20DE%20LAS%20MUJERESA%20A%20UNA%20VIDA%20LIBRE%20DE%20VIOLENCIA.pdf\n",
      "temp/HAPRJY.pdf\n",
      "pdf\n",
      "Got text\n",
      "http://www.hcnl.gob.mx/trabajo_legislativo/leyes/pdf/LEY%20DE%20ACCESO%20DE%20LAS%20MUJERESA%20A%20UNA%20VIDA%20LIBRE%20DE%20VIOLENCIA.doc\n",
      "temp/LRIPHX.doc\n",
      "doc\n",
      "Got text\n",
      "http://www.hcnl.gob.mx/trabajo_legislativo/leyes/pdf/LEY%20AMBIENTAL%20DEL%20ESTADO%20DE%20NUEVO%20LEON.pdf\n",
      "temp/RJNWEC.pdf\n",
      "pdf\n",
      "Got text\n",
      "http://www.hcnl.gob.mx/trabajo_legislativo/leyes/pdf/LEY%20AMBIENTAL%20DEL%20ESTADO%20DE%20NUEVO%20LEON.doc\n",
      "temp/GTVQCF.doc\n",
      "doc\n",
      "Got text\n",
      "http://www.hcnl.gob.mx/trabajo_legislativo/leyes/pdf/LEY%20DE%20ADMINISTRACION%20FINANCIERA%20PARA%20EL%20ESTADO%20DE%20NUEVO%20LEON.pdf\n",
      "temp/EZOSVT.pdf\n",
      "pdf\n",
      "Got text\n",
      "http://www.hcnl.gob.mx/trabajo_legislativo/leyes/pdf/LEY%20DE%20ADMINISTRACION%20FINANCIERA%20PARA%20EL%20ESTADO%20DE%20NUEVO%20LEON.doc\n",
      "temp/DUSQRK.doc\n",
      "doc\n",
      "Got text\n",
      "http://www.hcnl.gob.mx/trabajo_legislativo/leyes/pdf/LEY%20DE%20ADQUISICIONES%2C%20ARRENDAMIENTOS%20Y%20CONTRATACIO%CC%81N%20DE%20SERVICIOS%20DEL%20ESTADO%20DE%20NUEVO%20LEON.pdf\n",
      "temp/TSRUNF.pdf\n",
      "pdf\n",
      "Got text\n",
      "http://www.hcnl.gob.mx/trabajo_legislativo/leyes/pdf/LEY%20DE%20ADQUISICIONES%2C%20ARRENDAMIENTOS%20Y%20CONTRATACIO%CC%81N%20DE%20SERVICIOS%20DEL%20ESTADO%20DE%20NUEVO%20LEON.doc\n",
      "temp/MOIABY.doc\n",
      "doc\n",
      "Got text\n",
      "http://www.hcnl.gob.mx/trabajo_legislativo/leyes/pdf/LEY%20DE%20AGUA%20POTABLE%20Y%20SANEAMIENTO.pdf\n",
      "temp/LMVKPW.pdf\n",
      "pdf\n",
      "Got text\n",
      "http://www.hcnl.gob.mx/trabajo_legislativo/leyes/pdf/LEY%20DE%20AGUA%20POTABLE%20Y%20SANEAMIENTO.doc\n",
      "temp/YEBCOH.doc\n",
      "doc\n",
      "Got text\n",
      "http://www.hcnl.gob.mx/trabajo_legislativo/leyes/pdf/74acuerdo172.pdf\n",
      "temp/UDWINV.pdf\n",
      "pdf\n",
      "Got text\n",
      "http://www.hcnl.gob.mx/trabajo_legislativo/leyes/pdf/74acuerdo171.pdf\n",
      "temp/RIHQGJ.pdf\n",
      "pdf\n",
      "Got text\n",
      "http://www.hcnl.gob.mx/trabajo_legislativo/leyes/pdf/74acuerdo170.pdf\n",
      "temp/IPYCOB.pdf\n",
      "pdf\n",
      "Got text\n",
      "http://www.hcnl.gob.mx/trabajo_legislativo/leyes/pdf/74acuerdo169.pdf\n",
      "temp/LHSABQ.pdf\n",
      "pdf\n",
      "Got text\n",
      "http://www.hcnl.gob.mx/trabajo_legislativo/leyes/pdf/74acuerdo168.pdf\n",
      "temp/SPEULT.pdf\n",
      "pdf\n",
      "Got text\n",
      "http://www.hcnl.gob.mx/trabajo_legislativo/leyes/pdf/74acuerdo167.pdf\n",
      "temp/VOYIMQ.pdf\n",
      "pdf\n",
      "Got text\n",
      "http://www.hcnl.gob.mx/trabajo_legislativo/leyes/pdf/74acuerdo166.pdf\n",
      "temp/GLWMTJ.pdf\n",
      "pdf\n",
      "Got text\n",
      "http://www.hcnl.gob.mx/trabajo_legislativo/leyes/pdf/74acuerdo165.pdf\n",
      "temp/NTHJSR.pdf\n",
      "pdf\n",
      "Got text\n",
      "http://www.hcnl.gob.mx/trabajo_legislativo/leyes/pdf/74acuerdo164.pdf\n",
      "temp/NVRGXK.pdf\n",
      "pdf\n",
      "Got text\n",
      "http://www.hcnl.gob.mx/trabajo_legislativo/leyes/pdf/74acuerdo163.pdf\n",
      "temp/DCLVZT.pdf\n",
      "pdf\n",
      "Got text\n"
     ]
    },
    {
     "ename": "ValueError",
     "evalue": "'ARCHIVOS' is not in list",
     "output_type": "error",
     "traceback": [
      "\u001b[0;31m---------------------------------------------------------------------------\u001b[0m",
      "\u001b[0;31mValueError\u001b[0m                                Traceback (most recent call last)",
      "\u001b[0;32m<ipython-input-307-58ca95c5b364>\u001b[0m in \u001b[0;36m<module>\u001b[0;34m()\u001b[0m\n\u001b[0;32m----> 1\u001b[0;31m \u001b[0mmain\u001b[0m\u001b[0;34m(\u001b[0m\u001b[0;34m)\u001b[0m\u001b[0;34m\u001b[0m\u001b[0m\n\u001b[0m",
      "\u001b[0;32m<ipython-input-304-71f70bcd1186>\u001b[0m in \u001b[0;36mmain\u001b[0;34m()\u001b[0m\n\u001b[1;32m     17\u001b[0m                 \u001b[0msleep\u001b[0m\u001b[0;34m(\u001b[0m\u001b[0;36m3\u001b[0m\u001b[0;34m)\u001b[0m\u001b[0;34m\u001b[0m\u001b[0m\n\u001b[1;32m     18\u001b[0m                 \u001b[0mheaders\u001b[0m \u001b[0;34m=\u001b[0m \u001b[0mget_table_headers\u001b[0m\u001b[0;34m(\u001b[0m\u001b[0mdriver\u001b[0m\u001b[0;34m)\u001b[0m\u001b[0;34m\u001b[0m\u001b[0m\n\u001b[0;32m---> 19\u001b[0;31m                 \u001b[0mcurrent_data\u001b[0m \u001b[0;34m=\u001b[0m \u001b[0mget_table_data\u001b[0m\u001b[0;34m(\u001b[0m\u001b[0mdriver\u001b[0m\u001b[0;34m,\u001b[0m\u001b[0mheaders\u001b[0m\u001b[0;34m)\u001b[0m\u001b[0;34m\u001b[0m\u001b[0m\n\u001b[0m\u001b[1;32m     20\u001b[0m                 \u001b[0mcurrent_data\u001b[0m \u001b[0;34m=\u001b[0m \u001b[0minsert_key\u001b[0m\u001b[0;34m(\u001b[0m\u001b[0mcurrent_data\u001b[0m\u001b[0;34m,\u001b[0m \u001b[0;34m\"period\"\u001b[0m\u001b[0;34m,\u001b[0m \u001b[0mperiod\u001b[0m\u001b[0;34m.\u001b[0m\u001b[0mtext\u001b[0m\u001b[0;34m)\u001b[0m\u001b[0;34m\u001b[0m\u001b[0m\n\u001b[1;32m     21\u001b[0m                 \u001b[0mcurrent_data\u001b[0m \u001b[0;34m=\u001b[0m \u001b[0minsert_key\u001b[0m\u001b[0;34m(\u001b[0m\u001b[0mcurrent_data\u001b[0m\u001b[0;34m,\u001b[0m \u001b[0;34m\"document\"\u001b[0m\u001b[0;34m,\u001b[0m \u001b[0mdocument\u001b[0m\u001b[0;34m[\u001b[0m\u001b[0;34m\"name\"\u001b[0m\u001b[0;34m]\u001b[0m\u001b[0;34m)\u001b[0m\u001b[0;34m\u001b[0m\u001b[0m\n",
      "\u001b[0;32m<ipython-input-292-a4e06b2aac04>\u001b[0m in \u001b[0;36mget_table_data\u001b[0;34m(driver, headers)\u001b[0m\n\u001b[1;32m      1\u001b[0m \u001b[0;32mdef\u001b[0m \u001b[0mget_table_data\u001b[0m\u001b[0;34m(\u001b[0m\u001b[0mdriver\u001b[0m\u001b[0;34m,\u001b[0m \u001b[0mheaders\u001b[0m\u001b[0;34m)\u001b[0m\u001b[0;34m:\u001b[0m\u001b[0;34m\u001b[0m\u001b[0m\n\u001b[0;32m----> 2\u001b[0;31m     \u001b[0mfiles_index\u001b[0m \u001b[0;34m=\u001b[0m \u001b[0mheaders\u001b[0m\u001b[0;34m.\u001b[0m\u001b[0mindex\u001b[0m\u001b[0;34m(\u001b[0m\u001b[0;34m\"ARCHIVOS\"\u001b[0m\u001b[0;34m)\u001b[0m\u001b[0;34m\u001b[0m\u001b[0m\n\u001b[0m\u001b[1;32m      3\u001b[0m     \u001b[0mtable_data\u001b[0m \u001b[0;34m=\u001b[0m \u001b[0;34m[\u001b[0m\u001b[0;34m]\u001b[0m\u001b[0;34m\u001b[0m\u001b[0m\n\u001b[1;32m      4\u001b[0m     \u001b[0;32mfor\u001b[0m \u001b[0mrow\u001b[0m \u001b[0;32min\u001b[0m \u001b[0;34m(\u001b[0m\u001b[0mdriver\u001b[0m\u001b[0;34m.\u001b[0m\u001b[0mfind_elements_by_tag_name\u001b[0m\u001b[0;34m(\u001b[0m\u001b[0;34m\"tbody\"\u001b[0m\u001b[0;34m)\u001b[0m\u001b[0;34m[\u001b[0m\u001b[0;36m0\u001b[0m\u001b[0;34m]\u001b[0m\u001b[0;34m)\u001b[0m\u001b[0;34m.\u001b[0m\u001b[0mfind_elements_by_tag_name\u001b[0m\u001b[0;34m(\u001b[0m\u001b[0;34m\"tr\"\u001b[0m\u001b[0;34m)\u001b[0m\u001b[0;34m:\u001b[0m\u001b[0;34m\u001b[0m\u001b[0m\n\u001b[1;32m      5\u001b[0m         \u001b[0mrow_columns\u001b[0m \u001b[0;34m=\u001b[0m \u001b[0mrow\u001b[0m\u001b[0;34m.\u001b[0m\u001b[0mfind_elements_by_tag_name\u001b[0m\u001b[0;34m(\u001b[0m\u001b[0;34m\"td\"\u001b[0m\u001b[0;34m)\u001b[0m\u001b[0;34m\u001b[0m\u001b[0m\n",
      "\u001b[0;31mValueError\u001b[0m: 'ARCHIVOS' is not in list"
     ]
    }
   ],
   "source": [
    "main()"
   ]
  },
  {
   "cell_type": "code",
   "execution_count": null,
   "metadata": {
    "collapsed": true
   },
   "outputs": [],
   "source": []
  }
 ],
 "metadata": {
  "kernelspec": {
   "display_name": "Python 3",
   "language": "python",
   "name": "python3"
  },
  "language_info": {
   "codemirror_mode": {
    "name": "ipython",
    "version": 3
   },
   "file_extension": ".py",
   "mimetype": "text/x-python",
   "name": "python",
   "nbconvert_exporter": "python",
   "pygments_lexer": "ipython3",
   "version": "3.4.1"
  }
 },
 "nbformat": 4,
 "nbformat_minor": 0
}
